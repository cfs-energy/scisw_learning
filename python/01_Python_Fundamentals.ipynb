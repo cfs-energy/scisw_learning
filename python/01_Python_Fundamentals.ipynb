{
 "cells": [
  {
   "cell_type": "markdown",
   "metadata": {},
   "source": [
    "### 01 - Python Fundamentals Part 1\n",
    "\n",
    "#### Outline\n",
    "\n",
    "* Imports & Libraries\n",
    "* Variables, Primitives, Arithmetic, and String Formatting\n",
    "* Example: Building Machinery\n",
    "* Example: Making Plots\n",
    "* Strings, Paths, and Navigation\n",
    "\n",
    "#### Commentary\n",
    "\n",
    "This class is going to provide _exposure_ to a wide range of concepts and a set of recipes and best-practices to lean on. It's also taking a depth-first approach: rather than show several ways to do something and discuss tradeoffs, we'll show one good way, show any neighboring landmines, and move on.\n",
    "\n",
    "Concrete skill takes long exposure that simply isn't practical to build in one hour per week, so instead, the focus will be on lowering barriers and greasing the rails for organic learning outside.\n",
    "\n",
    "Motivation: exponentiation, project transitions, reproducibility"
   ]
  },
  {
   "cell_type": "markdown",
   "metadata": {},
   "source": [
    "----\n",
    "\n",
    "#### Imports and Libraries\n",
    "\n",
    "Unlike MATLAB, Python requires explicitly importing components, including most of the standard library. This may feel inconvenient at first, but it's one of the things that allows building structured and repeatable code."
   ]
  },
  {
   "cell_type": "code",
   "execution_count": null,
   "metadata": {},
   "outputs": [],
   "source": [
    "# These are part of the standard library, but we have to import them anyway\n",
    "import os\n",
    "import math\n",
    "\n",
    "# This is an implied \"relative import\" from the same folder\n",
    "# An explicit relative import would be like \"from . import example_module,\"\n",
    "# but that only works inside a proper package.\n",
    "from example_module import HELLO_CONSTANT\n",
    "\n",
    "print(\"The working folder is \", os.path.abspath(''))\n",
    "print(\"We can add some numbers: \", math.fsum([1.0, 2.0, 3.0]))\n",
    "print(\"Matplotlib knows we're in a notebook: \", os.environ.get(\"MPLBACKEND\"))\n",
    "print(\"We can import our own stuff, too: \", HELLO_CONSTANT)"
   ]
  },
  {
   "cell_type": "markdown",
   "metadata": {},
   "source": [
    "----\n",
    "\n",
    "#### Variables, Primitives, and Arithmetic\n",
    "\n",
    "Unlike MATLAB, but similar to other programming languages, Python has multiple kinds of numbers in addition to other data types.\n",
    "\n",
    "Discussion: type annotation, O-notation, pass-by-assignment"
   ]
  },
  {
   "cell_type": "code",
   "execution_count": null,
   "metadata": {},
   "outputs": [],
   "source": [
    "import numpy as np  # Dense arrays\n",
    "from scipy import sparse  # Sparse matrices\n",
    "from pint import Quantity, UnitRegistry  # Unit conversions\n",
    "\n",
    "# Integers can be written in base 10, 16, or 2.\n",
    "# Usually only base 10 is needed for engineering outside embedded systems or graphics.\n",
    "#\n",
    "# Python 3 integers are not a true primitive type; each one is an object that takes up at least 28 bytes,\n",
    "# can extend to arbitrary size to accommodate large integers, and will automatically become a float\n",
    "# when needed to represent non-integer values.\n",
    "a: int = 5\n",
    "a_hex: int = 0x05  # Hexadecimal representation\n",
    "a_bin: int = 0b0101  # Binary\n",
    "a = 6  # Mutate the existing value of `a`\n",
    "\n",
    "# Floats can be written as either decimal or scientific notation.\n",
    "# Python floats are 64-bit by default.\n",
    "b: float = 1.0\n",
    "b_sci: float = 10.0e-1\n",
    "c: complex = complex(a, b)  # Nobody uses this\n",
    "\n",
    "# Booleans represent logical operations.\n",
    "a: bool = True  # Shadowing `a`\n",
    "yep: bool = True\n",
    "nope: bool = False\n",
    "sure: bool = a > 3  # Comparison operations produce a boolean output\n",
    "\n",
    "# Nonetype is special, and usually represents a missing value\n",
    "something_should_be_here: float | None = None\n",
    "\n",
    "# Strings come in a few flavors. You can also change the encoding if needed.\n",
    "d: str = \"yeet\"\n",
    "d_bytes: bytes = b\"yeet\"  # Byte string\n",
    "d_format: str = f\"asdf: {d}\"  # Trivial use of format string or \"f-string\"\n",
    "d_format_2: str = \"asdf: {}\".format(d)  # Old syntax\n",
    "d_literal: str = r\"\\asdf\"  # String literal - mostly used for formatting LaTeX\n",
    "\n",
    "# Tuples are like lists with a specific length and specific type in each index.\n",
    "# They just glue some variables together:\n",
    "e: tuple[int, float] = (a, b)\n",
    "ee: tuple[int, float, str] = (a, b, d)\n",
    "e[0]\n",
    "e[1]\n",
    "\n",
    "# Lists _can_ contain different types, but best practice is to avoid this\n",
    "bad_list: list[str | float] = [\"asdf\", 3.1]  # Don't do this unless you really need it\n",
    "good_list: list[float] = [1.0, 2.0, 3.0]\n",
    "two = good_list[0]  # List indexing is O(1), indexed from 0\n",
    "\n",
    "# Dictionaries allow looking a value up by name\n",
    "stuff: dict[str, str] = {\n",
    "    \"foo\": \"bar\",\n",
    "    \"bar\": \"baz\"\n",
    "}\n",
    "bar = stuff[\"foo\"]  # Dictionary access is O(1)\n",
    "\n",
    "# Dense arrays can also be used as matrices.\n",
    "# Matlab internally represents most matrices as sparse (specifically compressed column).\n",
    "# In Python and other languages, arrays and matrices come in different varieties.\n",
    "dense_array: np.typing.NDArray = np.array([1.0, 3.0, 2.0])\n",
    "dense_mat: np.typing.NDArray = np.diag(dense_array)\n",
    "sparse_mat: sparse.csc_matrix = sparse.csc_matrix(dense_mat)  # Not the most efficient way to do this\n",
    "\n",
    "# NOTE: Discuss dense matrix memory format\n",
    "# [ 1, 0, 0 ]\n",
    "# [ 0, 3, 0 ]\n",
    "# [ 0, 0, 2 ]\n",
    "\n",
    "# Values can have associated units and do conversions automatically\n",
    "ureg = UnitRegistry(system=\"mks\")  # Setup\n",
    "Q_ = ureg.Quantity  # More setup\n",
    "\n",
    "array_with_units: Quantity = Q_(dense_array, \"kg * m / s^2\")\n",
    "scalar_with_units: Quantity = Q_(9.805, \"ft / fortnight / slug\") # I don't want to deal with this conversion!\n",
    "result_with_units: Quantity = array_with_units / scalar_with_units  # Units tracked, but no conversions applied yet\n",
    "result_with_reduced_units: Quantity = result_with_units.to_base_units()  # Applied conversions\n",
    "\n",
    "print(result_with_reduced_units)\n"
   ]
  },
  {
   "cell_type": "code",
   "execution_count": null,
   "metadata": {},
   "outputs": [],
   "source": [
    "# Format strings can format almost anything\n",
    "\n",
    "print(f\"Format some numbers: {a}, {b}\")\n",
    "print(f\"Format a list: {bad_list}\")\n",
    "print(f\"Format a dictionary: {stuff}\")"
   ]
  },
  {
   "cell_type": "code",
   "execution_count": null,
   "metadata": {},
   "outputs": [],
   "source": [
    "# Common arithmetic operations are available as operators.\n",
    "# Some notables:\n",
    "a_squared = a ** 2.1  # Exponentiation is different from matlab\n",
    "a += 1\n",
    "a -= 1\n",
    "dense_mat @ dense_array  # Matrix multiplication is explicit, unlike matlab\n",
    "sparse_mat @ dense_array\n",
    "solved = sparse.linalg.factorized(sparse_mat)(dense_array)  # Matlab backslash operator - solve a system\n",
    "\n",
    "# Python automatically typecasts integers to floats for arithmetic that can produce fractions,\n",
    "# even if they don't in a given particular case.\n",
    "# This is called \"implicit typecasting.\"\n",
    "int_times_int = 2 * 3\n",
    "int_over_float = 1 / 3.0\n",
    "int_over_int_fractional = 1 / 2\n",
    "int_over_int_exact = 4 / 2\n",
    "\n",
    "print(\"int_times_int ->\", type(int_times_int))\n",
    "print(\"int_over_float ->\", type(int_over_float))\n",
    "print(\"int_over_int_fractional ->\", type(int_over_int_fractional))\n",
    "print(\"int_over_int_exact ->\", type(int_over_int_exact))"
   ]
  },
  {
   "cell_type": "markdown",
   "metadata": {},
   "source": [
    "##### Example: Building Machinery"
   ]
  },
  {
   "cell_type": "code",
   "execution_count": null,
   "metadata": {},
   "outputs": [],
   "source": [
    "# Don't find the thing you want? You can build it!\n",
    "\n",
    "# This very small block adds a wrapper for scipy matrices that allows solving systems like\n",
    "# Ax = b -> x = A // b\n",
    "\n",
    "from functools import cached_property\n",
    "\n",
    "class MatrixWithSolver(sparse.csc_matrix):\n",
    "    \"\"\"A sparse matrix with shorthand for running a fast direct solver like `x = A // b`.\"\"\"\n",
    "    \n",
    "    @cached_property\n",
    "    def solve(self):\n",
    "        \"\"\"\n",
    "        Compute LU factorization. Only runs once, then is stored and reused.\n",
    "        Actual procedure defers to SuiteSparse UMFPACK direct solver.\n",
    "        \"\"\"\n",
    "        return sparse.linalg.factorized(self)\n",
    "\n",
    "    def __floordiv__(self, other: np.typing.NDArray) -> np.typing.NDArray:\n",
    "        \"\"\"\n",
    "        Solve a linear system with the provided RHS.\n",
    "        Uses pre-computed LU factorization and stored symbolic solution.\n",
    "        \"\"\"\n",
    "        return self.solve(other)\n",
    "\n",
    "sparse_mat_wrapped = MatrixWithSolver(sparse_mat)\n",
    "solved_shorthand = sparse_mat_wrapped // dense_array\n",
    "\n",
    "assert np.all(solved == solved_shorthand)"
   ]
  },
  {
   "cell_type": "markdown",
   "metadata": {},
   "source": [
    "##### Example: Making Plots\n",
    "\n",
    "The `matplotlib` library provides a plotting interface very similar to matlab. There are other plotting libraries like `plotly` that will be covered later on."
   ]
  },
  {
   "cell_type": "code",
   "execution_count": null,
   "metadata": {},
   "outputs": [],
   "source": [
    "import matplotlib.pyplot as plt\n",
    "\n",
    "fig, axes = plt.subplots(1, 2)\n",
    "\n",
    "x = np.linspace(0, 2.0 * np.pi, 20)\n",
    "\n",
    "plt.sca(axes[0])\n",
    "y1 = np.sin(x)\n",
    "plt.plot(x, y1, label=\"sine\")\n",
    "plt.legend()\n",
    "\n",
    "y2 = np.tan(x)\n",
    "plt.sca(axes[1])\n",
    "plt.plot(x, y2, label=\"tan\")\n",
    "plt.legend()\n",
    "\n",
    "plt.suptitle(r\"Plots! $y_{1} = sin(\\theta)$, $y_{2} = tan(\\theta)$\")"
   ]
  },
  {
   "cell_type": "markdown",
   "metadata": {},
   "source": [
    "##### Floats vs. Ints\n",
    "\n",
    "Floating-point and integer numbers are the most common kinds.\n",
    "\n",
    "There are others - fixed-point, posits, quaternions, and many different sizes of float and int that have their uses, but aren't the focus here.\n",
    "\n",
    "The bottom line is that floats have _relative_ resolution (about 2.2e-16 for f64 and about 1.2e-7 for f32), and integers have _absolute_ resolution (1 because that's what an integer is). Fixed-point numbers represent decimal values like a float, but have a fixed absolute resolution like an int; they are very fast and reliable, but not accurate enough for scientific computing.\n",
    "\n",
    "Both floats and ints have a minimum and maximum value that they can represent.\n",
    "\n",
    "Some reading material:\n",
    "* There is a plot in here a couple pages down showing relative resolution for 32-bit floats https://spectrum.ieee.org/floating-point-numbers-posits-processor\n",
    "* Rust docs for related constants, like the absolute resolution of a 64-bit float near 1.0 (epsilon) https://doc.rust-lang.org/std/primitive.f64.html#associatedconstant.EPSILON\n",
    "* The fsum full-precision summation procedure gives a quick window into deliberate handling of roundoff error https://docs.python.org/3/library/math.html#math.fsum\n",
    "    * The original paper is from Jonathan Shewchuck's work on full-precision computational geometry that became the modern field of meshing\n",
    "\n",
    "<img src=\"static/01/image.png\" width=\"500\"/>"
   ]
  },
  {
   "cell_type": "markdown",
   "metadata": {},
   "source": [
    "----\n",
    "\n",
    "#### Strings, Paths, and Navigation\n",
    "\n",
    "Strings are often used to describe filenames or relative paths where they are provided as user inputs. Best practice is to convert them to Path objects internally, which provides both convenience and cross-platform compatibility."
   ]
  },
  {
   "cell_type": "code",
   "execution_count": null,
   "metadata": {},
   "outputs": [],
   "source": [
    "# These are part of the standard library\n",
    "import os\n",
    "from pathlib import Path"
   ]
  },
  {
   "cell_type": "code",
   "execution_count": null,
   "metadata": {},
   "outputs": [],
   "source": [
    "# Getting the working directory in a notebook environment is different from elsewhere\n",
    "working_directory = Path(os.path.abspath(''))  # Immediately stuff the string into a Path object\n",
    "\n",
    "# Outside a notebook, we'd do something like\n",
    "# here = Path(__file__).parent\n",
    "# wdir = Path(\".\").parent\n",
    "\n",
    "print(\"You are here: \", working_directory)"
   ]
  },
  {
   "cell_type": "code",
   "execution_count": null,
   "metadata": {},
   "outputs": [],
   "source": [
    "# We can list files/folders\n",
    "stuff_in_workdir = list(working_directory.iterdir())\n",
    "stuff_in_workdir"
   ]
  },
  {
   "cell_type": "code",
   "execution_count": null,
   "metadata": {},
   "outputs": [],
   "source": [
    "# We can search for names\n",
    "markdown_files = list(working_directory.glob(\"*.md\"))\n",
    "markdown_files"
   ]
  },
  {
   "cell_type": "code",
   "execution_count": null,
   "metadata": {},
   "outputs": [],
   "source": [
    "# Navigating downward\n",
    "# \"./static/01\"\n",
    "# \"~/git\" -> \"/home/jlogan/git\"\n",
    "static_dir = working_directory / \"static\" / \"01\"  # {here}/static/01\n",
    "old_method_static_dir = os.path.join(working_directory, \"static\", \"01\")  # Don't need this anymore\n",
    "\n",
    "# Navigating upward\n",
    "parent_dir = working_directory.parent\n",
    "parent_dir_alternate = working_directory / \"../\"\n",
    "assert parent_dir.resolve() == parent_dir_alternate.resolve()"
   ]
  },
  {
   "cell_type": "code",
   "execution_count": null,
   "metadata": {},
   "outputs": [],
   "source": []
  }
 ],
 "metadata": {
  "kernelspec": {
   "display_name": "python",
   "language": "python",
   "name": "python3"
  },
  "language_info": {
   "codemirror_mode": {
    "name": "ipython",
    "version": 3
   },
   "file_extension": ".py",
   "mimetype": "text/x-python",
   "name": "python",
   "nbconvert_exporter": "python",
   "pygments_lexer": "ipython3",
   "version": "3.11.13"
  }
 },
 "nbformat": 4,
 "nbformat_minor": 2
}
