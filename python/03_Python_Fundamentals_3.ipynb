{
 "cells": [
  {
   "cell_type": "markdown",
   "metadata": {},
   "source": [
    "### 03 - Python Fundamentals Part 3\n",
    "\n",
    "#### Outline\n",
    "\n",
    "* Functions, Mutability, and Pass-by-Assignment\n",
    "* Control Flow, Loops, Branches, and Errors\n",
    "* Defaults\n",
    "* Iterators\n"
   ]
  },
  {
   "cell_type": "code",
   "execution_count": null,
   "metadata": {},
   "outputs": [],
   "source": [
    "# These are part of the standard library\n",
    "import os\n",
    "from pathlib import Path\n",
    "\n",
    "working_directory = Path(os.path.abspath(''))  # Immediately stuff the string into a Path object\n",
    "static_dir = working_directory / \"static\" / \"03\""
   ]
  },
  {
   "cell_type": "markdown",
   "metadata": {},
   "source": [
    "----\n",
    "\n",
    "### Functions, Lambdas, Recursion, and Splatting\n",
    "\n",
    "Functions are first-class objects and can be passed around like variables.\n",
    "\n",
    "Lambdas are functions made on-the-spot, also called \"anonymous functions\" in matlab or \"closures\" in Rust, Haskell, C#, and Java; the name \"lambda\" refers to \"lambda calculus\" which is a fancy name for the field of study around treating functions like variables.\n",
    "\n",
    "Recursion is useful, but also can be confusing and hazardous. Use only when necessary."
   ]
  },
  {
   "cell_type": "code",
   "execution_count": null,
   "metadata": {},
   "outputs": [],
   "source": [
    "# This is a basic function definition\n",
    "# NOTE: Show docstring generation with `autodocstring`\n",
    "\n",
    "def myfunc(a: float, b: int) -> float:\n",
    "    \"\"\"\n",
    "    This is a docstring! Write some notes for future self.\n",
    "    Pretend your future self is a different person, because they will be\n",
    "\n",
    "    Args:\n",
    "        a: first value\n",
    "        b: who knows!\n",
    "\n",
    "    Returns:\n",
    "        a * b unless b is less than 3, in which case, zero\n",
    "    \"\"\"\n",
    "\n",
    "    if b > 2:\n",
    "        return a * float(b)\n",
    "    else:\n",
    "        return 0.0\n",
    "\n",
    "# Same function as a lambda using a ternary expression.\n",
    "# Lambdas can be very compact, but difficult to read!\n",
    "\n",
    "mylambda = lambda a, b: a * float(b) if b > 2 else 0.0\n"
   ]
  },
  {
   "cell_type": "code",
   "execution_count": null,
   "metadata": {},
   "outputs": [],
   "source": [
    "# Functions can be called with \"positional\" (ordered) or \"keyword\" (named) arguments, or a mix of both.\n",
    "# Keyword arguments must come after any positional arguments,\n",
    "# because otherwise we wouldn't be able to tell what position the positionals are in.\n",
    "\n",
    "myfunc(5.0, 6)\n",
    "myfunc(5.0, b=6)\n",
    "myfunc(b=6, a=5.0) # Different order!\n",
    "# myfunc(a=5.0, 6)  # nope"
   ]
  },
  {
   "cell_type": "code",
   "execution_count": null,
   "metadata": {},
   "outputs": [],
   "source": [
    "# Function can take unspecified numbers of inputs.\n",
    "# Keyword arguments are passed as a dictionary, while positional arguments are passed as a tuple.\n",
    "# This means that in performance-intensive cases, using positional arguments can be faster.\n",
    "\n",
    "def flexiblefunc(*args, **kwargs):\n",
    "    print(f\"Positional arguments: {args}\")\n",
    "    print(f\"Keyword arguments: {kwargs}\")\n",
    "\n",
    "# These two patterns have the same effect\n",
    "flexiblefunc(*(1, \"asdf\", False), **{\"a\": 9, \"dfgkhj\": True})\n",
    "print(\"\\n\")\n",
    "flexiblefunc(1, \"asdf\", False, a=9, dfgkhj=True)"
   ]
  },
  {
   "cell_type": "code",
   "execution_count": null,
   "metadata": {},
   "outputs": [],
   "source": [
    "# Splatting (or unpacking, or destructuring) allows using that kind of syntax elsewhere.\n",
    "# Keyword splatting is only usable in function calls.\n",
    "# You can also splat the contents of an iterator, and we'll see more of that later.\n",
    "\n",
    "# Splatting can unpack tuples into other collections\n",
    "print(f\"[*(1, 2)]: {[*(1, 2)]}\")\n",
    "\n",
    "# Splatting can also be used with functions that were defined with specific arguments\n",
    "print(f\"myfunc(*(5,6)): {myfunc(*(5.0, 6))}\")\n",
    "\n",
    "# Implicit unpacking for defining multiple variables on a single line\n",
    "a, b, c = (5, 6, 2)"
   ]
  },
  {
   "cell_type": "code",
   "execution_count": null,
   "metadata": {},
   "outputs": [],
   "source": [
    "# Recursion is useful but limited.\n",
    "#\n",
    "# Even algorithms with \"recursive\" in the name don't usually use actual recursion due to these limitations,\n",
    "# because most recursions can be rewritten as loops that do not have the same limitations.\n",
    "\n",
    "# A \"recursion\" is a function that can call itself.\n",
    "# This example is an \"unbounded recursion\" that will fail\n",
    "def recursive_func(count):\n",
    "    count[0] += 1\n",
    "    recursive_func(count)\n",
    "\n",
    "# This is will fail due to stack depth - you can't recurse forever \n",
    "count = [0]\n",
    "try:\n",
    "    recursive_func(count)\n",
    "except Exception as e:\n",
    "    print(f\"Crashed after {count[0]} recursions: {e}\")  # Another use of format strings!"
   ]
  },
  {
   "cell_type": "markdown",
   "metadata": {},
   "source": [
    "----\n",
    "\n",
    "#### Mutability and Pass-by-Assignment\n",
    "\n",
    "Where variables are passed to function calls like `function(my_variable)`, the variable may be passed either _by value_, meaning the actual content of the variable is copied into the function's workspace (stack frame) or it may be passed _by reference_, meaning only its memory address (pointer) is sent to the function, and the function has to look the value up.\n",
    "\n",
    "Both pass-by-value and pass-by-reference methods are useful and will be found together in almost any code.\n",
    "\n",
    "Python uses both pass-by-value and pass-by-reference, and won't tell you which one it is doing. You have to check it yourself.\n",
    "\n",
    "This is called \"pass-by-assignment,\" and is considered a feature.\n",
    "\n",
    "As a rule of thumb, \n",
    "* Pass-by-**reference** usually applies to **complicated or large types** like classes, collections, strings, arrays, etc.\n",
    "* Pass-by-**value** usually applies to **simple and small types** like individual numbers.\n",
    "\n",
    "There are exceptions to both these rules. The only reliable way to know is by checking.\n",
    "\n",
    "\"Mutability\" refers to whether a value can be changed after it is assigned. Some types are `immutable`, meaning they can't be changed.\n",
    "\n",
    "As a rule of thumb,\n",
    "* Mutable types are usually collections or classes\n",
    "* Immutable types are rare in python, but tuples and strings are exceptions\n",
    "  * \"Frozen\" dataclasses and pydantic models attempt to create immutability for larger objects"
   ]
  },
  {
   "cell_type": "code",
   "execution_count": null,
   "metadata": {},
   "outputs": [],
   "source": [
    "def try_to_mutate(x: int):\n",
    "    x += 1\n",
    "\n",
    "val_to_try = 1\n",
    "try_to_mutate(val_to_try)  # This doesn't change `a` because it was passed by value!\n",
    "val_to_try # Same as before"
   ]
  },
  {
   "cell_type": "code",
   "execution_count": null,
   "metadata": {},
   "outputs": [],
   "source": [
    "def try_to_append(x: list[str]):\n",
    "    x.append(\"asdf\")\n",
    "\n",
    "list_to_try = []\n",
    "\n",
    "try_to_append(list_to_try)  # This works, because lists are mutable & passed by reference\n",
    "print(list_to_try)\n",
    "\n",
    "try_to_append(list_to_try)\n",
    "print(list_to_try)"
   ]
  },
  {
   "cell_type": "markdown",
   "metadata": {},
   "source": [
    "----\n",
    "\n",
    "### Control Flow\n",
    "\n",
    "Python has a few types of control flow\n",
    "* Loops: `for`, `while`, `break`, `continue`\n",
    "  * `break` ends the enclosing loop\n",
    "  * `continue` skips to the next evaluation of the loop\n",
    "* Branches: `if-elif-else`, `match-case`, ternary statements, or-defaults\n",
    "  * Ternary statements and or-defaults are both shorthand for compressing common types of `if` statements\n",
    "* Error handling: try-except-finally\n",
    "  * `finally` block _always_ runs even if there is an error in the `try` block\n",
    "  * Use this to shut down child processes, close files, delete secrets, etc"
   ]
  },
  {
   "cell_type": "markdown",
   "metadata": {},
   "source": [
    "#### Loops"
   ]
  },
  {
   "cell_type": "code",
   "execution_count": null,
   "metadata": {},
   "outputs": [],
   "source": [
    "# Loops are pretty straightforward, but can be modified with `break` and `continue`\n",
    "\n",
    "print(\"A simple for-loop\")\n",
    "for i in range(5):\n",
    "    print(i)\n",
    "\n",
    "print(\"\\nA for-loop that skips even numbers\")\n",
    "for i in range(10):\n",
    "    if i % 2 == 0:  # Modulo operator - calculate remainder of division\n",
    "        continue\n",
    "    print(i)\n",
    "\n",
    "print(\"\\nA simple while-loop\")\n",
    "i = 5\n",
    "while i > 0:\n",
    "    i -= 1\n",
    "    print(i)\n",
    "\n",
    "print(\"\\nAn infinite loop with independent break condition\")\n",
    "err = 0.1\n",
    "tol = 0.02\n",
    "while True:\n",
    "    err /= 2\n",
    "    print(err)\n",
    "    if err < tol:\n",
    "        break"
   ]
  },
  {
   "cell_type": "markdown",
   "metadata": {},
   "source": [
    "#### Branches"
   ]
  },
  {
   "cell_type": "code",
   "execution_count": null,
   "metadata": {},
   "outputs": [],
   "source": [
    "# `if-elif-else` and `match-case` provide different flavors of the same functionality.\n",
    "# While they can produce the same logic, some things may be easier to express in one syntax or the other.\n",
    "\n",
    "# Simple if-statement to clamp a value to [-1, 0, 1]\n",
    "a = 0\n",
    "if a > 0:  # Condition checked first\n",
    "    a = 1\n",
    "elif a < 0:  # Condition checked second\n",
    "    a = -1\n",
    "else:  # Fall-through\n",
    "    a = 0\n",
    "\n",
    "# Match-case to clamp a value to [-1, 0, 1]\n",
    "# NOTE: Added in python 3.10! Don't use if you need compatibility with 3.9-\n",
    "# NOTE: Does not guarantee exhaustiveness, but linters can help with this if phrased carefully.\n",
    "# NOTE: Lean on \"may not be bound\" lint\n",
    "b = 0\n",
    "match b:\n",
    "    case x if x > 0:  # Condition checked first\n",
    "        b = 1\n",
    "    case x if x < 0:  # Condition checked second\n",
    "        b = -1\n",
    "    case _:  # Fall-through\n",
    "        b = 0\n",
    "\n",
    "# Match-case used for structural pattern matching\n",
    "p = (a, b)\n",
    "match p:\n",
    "    case (0, right):\n",
    "        c = (right + 1) ** 2\n",
    "    case (left, 0):\n",
    "        c = (left + 1) ** 2\n",
    "    case (left, right):  # All cases covered; no need for fall-through\n",
    "        c = left * right\n",
    "print(a, b, c)\n"
   ]
  },
  {
   "cell_type": "code",
   "execution_count": null,
   "metadata": {},
   "outputs": [],
   "source": [
    "# Ternary statements provide shorthand for assigning values based on the result of an `if-else` statement.\n",
    "# They are often used in a similar way to or-defaulting to be more specific about the distinction between\n",
    "# \"truthiness\" vs. missing values.\n",
    "\n",
    "a = None  # NOTE: try replacing this value with `[]`\n",
    "\n",
    "b = a if a is not None else \"b\"  # Ternary statement\n",
    "c = a or \"c\"                     # or-defaulting\n",
    "\n",
    "print(a, b, c)"
   ]
  },
  {
   "cell_type": "code",
   "execution_count": null,
   "metadata": {},
   "outputs": [],
   "source": [
    "# In both ternaries and or-defaults, the right side evaluates only if the left side fails.\n",
    "#\n",
    "# In the case of or-defaults, the right side may run in cases where there is a value\n",
    "# present on the left but that value is not \"truthy.\"\n",
    "\n",
    "#   Tracer functions to show whether the right side evaluates\n",
    "#   hijacking the `None` return from `print` to both print and return in a lambda\n",
    "make_b = lambda: print(\"running alternate b\") or 5\n",
    "make_c = lambda: print(\"running alternate c\") or 7\n",
    "\n",
    "a = True  # NOTE: try replacing this value with `[]` or `None`\n",
    "\n",
    "b = a if a is not None else make_b()\n",
    "c = a or make_c()\n",
    "\n",
    "print(a, b, c)"
   ]
  },
  {
   "cell_type": "code",
   "execution_count": null,
   "metadata": {},
   "outputs": [],
   "source": [
    "# The `or` keyword has some interesting and potentially unintuitive behavior.\n",
    "# It doesn't behave quite like the `||` logical-or operator in other languages.\n",
    "\n",
    "# `or` doesn't return a bool! It returns one of the values\n",
    "print(f\"\\nNone or 5 = {None or 5}\")\n",
    "\n",
    "# If the left side fails, the right side is _always_ returned, even if it also fails\n",
    "print(f\"False or None = {False or None}\")\n",
    "\n",
    "print(\"\\nValues can be truthy or falsey without an obvious boolean conversion\")\n",
    "print(f\"[] or True = {[] or True}\")\n",
    "print(f\"['asdf'] or [] = {['asdf'] or []}\")"
   ]
  },
  {
   "cell_type": "markdown",
   "metadata": {},
   "source": [
    "#### Error Handling\n",
    "\n",
    "Python uses exceptions for error handling.\n",
    "\n",
    "There is no structural method to find what exceptions may be raised by a function.\n",
    "Best practice is to document what conditions may result in raising an exeption from a function."
   ]
  },
  {
   "cell_type": "code",
   "execution_count": null,
   "metadata": {
    "tags": [
     "exceptions"
    ]
   },
   "outputs": [],
   "source": [
    "# Simplest case.\n",
    "# NOTE: Only use this for active debugging!\n",
    "# NOTE: Never leave these in final code. If it doesn't matter whether something runs, don't write it!\n",
    "# NOTE: Uncomment for presentation (otherwise these intentional exceptions fail tests)\n",
    "\n",
    "# try:\n",
    "#     print(\"Hello `try`\")\n",
    "#     raise Exception\n",
    "# except:\n",
    "#     print(\"Hello `except`\")"
   ]
  },
  {
   "cell_type": "code",
   "execution_count": null,
   "metadata": {
    "tags": [
     "exceptions"
    ]
   },
   "outputs": [],
   "source": [
    "# Simplest case with a `finally` block\n",
    "# NOTE: Uncomment for presentation (otherwise these intentional exceptions fail tests)\n",
    "\n",
    "# try:\n",
    "#     print(\"Hello `try`\")\n",
    "#     raise Exception\n",
    "# except:\n",
    "#     print(\"Hello `except`\")\n",
    "#     raise  # Raise whatever exception triggered this block\n",
    "# finally:  # Run whether there is an exception or not\n",
    "#     # This runs even if there is an error in the `except` block\n",
    "#     print(\"Hello `finally`\")"
   ]
  },
  {
   "cell_type": "code",
   "execution_count": null,
   "metadata": {
    "tags": [
     "exceptions"
    ]
   },
   "outputs": [],
   "source": [
    "# Real error handling is specific\n",
    "\n",
    "a = []\n",
    "try:\n",
    "    print(\"Getting first value of `a`!\")\n",
    "    first_elem = a[0]\n",
    "except IndexError:\n",
    "    print(\"Oops\")\n",
    "except ValueError:\n",
    "    print(\"What\")\n",
    "    raise\n"
   ]
  },
  {
   "cell_type": "code",
   "execution_count": null,
   "metadata": {
    "tags": [
     "exceptions"
    ]
   },
   "outputs": [],
   "source": [
    "# You can extract info about the error for logging or communicating to the user\n",
    "# NOTE: Uncomment for presentation (otherwise these intentional exceptions fail tests)\n",
    "\n",
    "# import traceback as tb\n",
    "\n",
    "# try:\n",
    "#     raise ValueError(\"nope\")\n",
    "# except ValueError as e:\n",
    "#     print(f\"Error: {type(e).__name__}: {e}\")\n",
    "#     execution_context = \"\".join(tb.format_tb(e.__traceback__))\n",
    "#     print(f\"\\nError context: \\n{execution_context}\")"
   ]
  },
  {
   "cell_type": "code",
   "execution_count": null,
   "metadata": {
    "tags": [
     "exceptions"
    ]
   },
   "outputs": [],
   "source": [
    "# Using a finally block to delete a password\n",
    "# Otherwise it would be saved as plaintext in the notebook!\n",
    "# NOTE: Uncomment for presentation (otherwise these intentional exceptions fail tests)\n",
    "\n",
    "# from getpass import getpass\n",
    "\n",
    "# pw = \"\"\n",
    "# try:\n",
    "#     # NOTE: `getpass` opens in the terminal that opened the notebook\n",
    "#     # pw = getpass(\"Enter password: \")\n",
    "#     pw = \"secret password\"\n",
    "#     raise Exception(\"Oops\")\n",
    "# finally:\n",
    "#     pw = \"\" # Erase\n",
    "#     del pw  # Mark for garbage collection (does not delete immediately!)\n",
    "#     print(\"Erased pw\")"
   ]
  },
  {
   "cell_type": "markdown",
   "metadata": {},
   "source": [
    "----\n",
    "\n",
    "### Defaults, Additivity, and Breaking Changes\n",
    "\n",
    "Python provides several overlapping methods for expressing the idea of default and optional values:\n",
    "\n",
    "* Function argument defaults\n",
    "* `or` operator\n",
    "* `*args, **kwargs` unpacking\n",
    "\n",
    "Defaults are at the core of maintainable, extensible code because they allow the addition of new features without breaking existing uses. Whenever possible, new features should _additive_; they should be present _in addition_ to existing features, without interfering.\n",
    "\n",
    "For example, when adding a new argument to an existing function, if possible, include a sensible default value that works for existing cases."
   ]
  },
  {
   "cell_type": "code",
   "execution_count": null,
   "metadata": {},
   "outputs": [],
   "source": [
    "# Functions can have default values for some or all arguments.\n",
    "# All arguments with defaults must come after all arguments without defaults.\n",
    "\n",
    "def myfunc_with_defaults(a: int = 5, b: int = 6) -> float:\n",
    "    return myfunc(a, b)\n",
    "\n",
    "myfunc_with_defaults()\n",
    "myfunc_with_defaults(4)\n",
    "myfunc_with_defaults(b=7)\n",
    "# myfunc_with_defaults(a=4, 7)  # nope"
   ]
  },
  {
   "cell_type": "code",
   "execution_count": null,
   "metadata": {},
   "outputs": [],
   "source": [
    "# ! LANDMINE !\n",
    "# Mutable default arguments are shared global state!\n",
    "# Never do this\n",
    "\n",
    "def bad_mutable_default(foo: list[str] = []) -> list[str]:\n",
    "    foo.append(\"asdf\")\n",
    "    return foo\n",
    "\n",
    "print(bad_mutable_default())  # Same call, different result every time!\n",
    "print(bad_mutable_default())\n",
    "print(bad_mutable_default())\n",
    "print(bad_mutable_default())"
   ]
  },
  {
   "cell_type": "code",
   "execution_count": null,
   "metadata": {},
   "outputs": [],
   "source": [
    "# Handling defaults for mutable types like lists and dictionaries can be done using a None-`or` pattern\n",
    "\n",
    "def good_mutable_default(foo: list[str] | None = None) -> list[str]:\n",
    "    foo = foo or []  # Triggers on empty list\n",
    "    # foo = foo if foo is not None else []  # Does not trigger on empty list\n",
    "    foo.append(\"asdf\")\n",
    "    return foo\n",
    "\n",
    "print(\"\\nAssigning defaults inside the function removes the shared global state\")\n",
    "print(good_mutable_default())\n",
    "print(good_mutable_default())\n",
    "print(good_mutable_default())"
   ]
  },
  {
   "cell_type": "code",
   "execution_count": null,
   "metadata": {},
   "outputs": [],
   "source": [
    "# None-`or` defaulting can handle non-empty defaults,\n",
    "#\n",
    "# This has the disadvantage that if there are a fixed set of valid options, there's no indication\n",
    "# in the function signature of what those valid options are, and the default values for each option\n",
    "# are hidden in the function definition.\n",
    "\n",
    "def good_default_with_values(bar: dict[str, int] | None = None) -> dict[str, int]:\n",
    "    required_defaults = {\n",
    "        \"a\": 5,\n",
    "        \"b\": 9\n",
    "    }\n",
    "\n",
    "    # Handle case where nothing is defined\n",
    "    bar = bar or required_defaults\n",
    "\n",
    "    # Handle case where some required values are defined and others are not\n",
    "    # by merging dictionaries, prioritizing values from the user\n",
    "    missing_values = {k: v for k, v in required_defaults.items() if k not in bar.keys()}\n",
    "    bar.update(missing_values)\n",
    "\n",
    "    return bar\n",
    "\n",
    "print(good_default_with_values())\n",
    "print(good_default_with_values(bar={\"a\": 3}))\n",
    "print(good_default_with_values(bar={\"c\": 7}))"
   ]
  },
  {
   "cell_type": "code",
   "execution_count": null,
   "metadata": {},
   "outputs": [],
   "source": [
    "# Pydantic models provide an excellent way to capture such defaults while preserving fixed options,\n",
    "# making the default values visible, and including required values.\n",
    "#\n",
    "# They can also include validation constraints on individual fields, like enforcing that a number be nonzero.\n",
    "\n",
    "from typing import Literal  # Enums without the pain\n",
    "import pydantic\n",
    "\n",
    "class Opts(pydantic.BaseModel):\n",
    "    # reqd: bool  # Required; no default value here\n",
    "    a: int = 5\n",
    "    b: int = 9\n",
    "    c: Literal[\"forward\", \"backward\"] = \"backward\"  # Only two valid options!\n",
    "    d: list[float] = pydantic.Field(default_factory=list)  # Mutable defaults constructed on init\n",
    "\n",
    "    # Optional configuration for pydantic class definition.\n",
    "    # This allows mutation, but applies run-time type checking,\n",
    "    # and will produce an error if an extra field is supplied to catch typos\n",
    "    model_config = pydantic.ConfigDict(validate_assignment=True, frozen=False, extra=\"forbid\")\n",
    "\n",
    "def better_defaults(reqd: bool, opts: Opts | None = None) -> Opts:\n",
    "    opts = opts or Opts()\n",
    "    return opts\n",
    "\n",
    "# print(better_defaults())\n",
    "print(better_defaults(False))\n",
    "print(better_defaults(True, opts=Opts(c=\"forward\")))"
   ]
  },
  {
   "cell_type": "code",
   "execution_count": null,
   "metadata": {},
   "outputs": [],
   "source": [
    "# What's a breaking change? Anything that can break existing uses of the code\n",
    "\n",
    "def func(a, b):\n",
    "    print(a, b)\n",
    "\n",
    "func(1, 2)\n",
    "\n",
    "# Breaking change! Added a required argument\n",
    "def func(a, b, c):\n",
    "    print(a, b, c)\n",
    "\n",
    "# Same use no longer works. Forced to update uses, not just the dep version!\n",
    "# func(1, 2)  # nope"
   ]
  },
  {
   "cell_type": "code",
   "execution_count": null,
   "metadata": {},
   "outputs": [],
   "source": [
    "def func(a, b):\n",
    "    print(a, b)\n",
    "\n",
    "func(1, 2)\n",
    "\n",
    "# Not breaking change unless it's \"functionality-breaking\" - new argument is optional\n",
    "def func(a, b, c=3):\n",
    "    print(a, b, c)\n",
    "\n",
    "# Same use still works, as long as this slightly different return is ok\n",
    "func(1, 2)"
   ]
  },
  {
   "cell_type": "markdown",
   "metadata": {},
   "source": [
    "#### What to do about breaking changes?\n",
    "1. Plan ahead - think about how the code you write is likely to change in the future\n",
    "2. Start with a restrictive interface, then relax over time - don't start general and then clamp down later!\n",
    "3. Make new features additive: when making new features, add defaults for new fields or make new functions or classes\n",
    "4. Just make the breaking change! But make sure to always document it properly by incrementing the major version\n",
    "\n",
    "#### Documenting breaking changes\n",
    "\n",
    "Versions have meaning! They're not just arbitrary numbers based on feelings.\n",
    "\n",
    "---\n",
    "As a rule of thumb:\n",
    "\n",
    "`12.7.3`\n",
    "\n",
    "`_____^----` Patch version `3`: functionality-neutral bug tweaks and bug fixes\n",
    "\n",
    "\n",
    "`12.7.3`\n",
    "\n",
    "`___^----` Minor version `7`: additive changes; new features, but no breakage; backward-compatible\n",
    "\n",
    "\n",
    "`12.7.3`\n",
    "\n",
    "`^----` Major version `12`: breaking changes; not backward compatible\n",
    "\n",
    "---\n",
    "\n",
    "\"Zero-versioning\" refers to the practice of leaving the major version blank during early development when changes are still happening regularly.\n",
    "\n",
    "`0.7.3`\n",
    "\n",
    "`____^----` Minor/Patch version `3`: Non-breaking changes\n",
    "\n",
    "\n",
    "`0.7.3`\n",
    "\n",
    "`__^----` Major version `7`: Breaking changes\n",
    "\n",
    "----\n",
    "\n",
    "Semantic versioning (semver) for a given language can be subtle, because it's not always obvious how breakage can occur. General info about semver can be found at https://semver.org/ ."
   ]
  },
  {
   "cell_type": "markdown",
   "metadata": {},
   "source": [
    "## Iterators\n",
    "\n",
    "Iterators provide a way to visit elements in a collection. They simply return the next value in the collection until they run out.\n",
    "\n",
    "Iterators are generally of the same form, and have only two distinguising characteristics: their return type and the size of the underlying collection - \"what and how many\"."
   ]
  },
  {
   "cell_type": "code",
   "execution_count": null,
   "metadata": {},
   "outputs": [],
   "source": [
    "# Collections can be accessed by iterators via different methods\n",
    "\n",
    "stuffmap = {\"a\": 1, \"b\": 2}\n",
    "\n",
    "print(f\"dict.items() gets key-value pairs:  {[(k, v) for k, v in stuffmap.items()]}\")\n",
    "print(f\"dict.keys() gets just the keys:     {[*stuffmap.keys()]}\")  # Splatting iterators!\n",
    "print(f\"dict.values() gets just the values: {[*stuffmap.values()]}\")"
   ]
  },
  {
   "cell_type": "code",
   "execution_count": null,
   "metadata": {},
   "outputs": [],
   "source": [
    "thingsvec = [1, 2, 3]\n",
    "\n",
    "# This works for most other ordered types like numpy arrays, too\n",
    "print(f\"lists implicitly generate iterators: {[x for x in thingsvec]}\")"
   ]
  },
  {
   "cell_type": "code",
   "execution_count": null,
   "metadata": {},
   "outputs": [],
   "source": [
    "# `enumerate` adds an index to an existing iterator\n",
    "print(f\"`enumerate` is handy for keeping track of where you are in an iterator: {[(i, v) for i, v in enumerate(thingsvec)]}\")"
   ]
  },
  {
   "cell_type": "code",
   "execution_count": null,
   "metadata": {},
   "outputs": [],
   "source": [
    "# `zip` is a builtin method for combining iterators into pairs of values\n",
    "\n",
    "zipped_items = zip(stuffmap.keys(), stuffmap.values())  # Still an iterator\n",
    "assert list(zipped_items) == list(stuffmap.items())  # Have to actualize the iterators to compare values\n",
    "\n",
    "# `zip` can also be used to transpose a series of pairs into a pair of series\n",
    "keys, vals = zip(*stuffmap.items())\n",
    "\n",
    "print(keys, vals)"
   ]
  },
  {
   "cell_type": "code",
   "execution_count": null,
   "metadata": {},
   "outputs": [],
   "source": [
    "# `itertools` provides numerous methods for doing more interesting things with iterators\n",
    "\n",
    "from itertools import product, chain, permutations, cycle  # ... and many more\n",
    "\n",
    "print(\"Permutations of (1, 3) makes shuffled versions of the same data\")\n",
    "for x in permutations([1, 3]):\n",
    "    print(x)\n",
    "print(\"\\n\")\n",
    "\n",
    "print(\"Cartesian product of (1, 2), (3, 4) makes all the pairs\")\n",
    "for x in product([1, 2], [3, 4]):\n",
    "    print(x)\n",
    "print(\"\\n\")\n",
    "\n",
    "print(\"Chain of (1, 2), (3, 4, 5) flattens ragged data\")\n",
    "for x in chain([1, 2], [3, 4, 5]):\n",
    "    print(x)\n",
    "print(\"\\n\")\n",
    "\n",
    "print(\"Cycle of ('red', 'green', 'blue') loops over the values forever\")\n",
    "color_cycle = cycle(('red', 'green', 'blue'))\n",
    "for i in range(5):\n",
    "    print(next(color_cycle))\n",
    "print(\"...and so on\\n\")"
   ]
  },
  {
   "cell_type": "code",
   "execution_count": null,
   "metadata": {},
   "outputs": [],
   "source": []
  }
 ],
 "metadata": {
  "kernelspec": {
   "display_name": "python",
   "language": "python",
   "name": "python3"
  },
  "language_info": {
   "codemirror_mode": {
    "name": "ipython",
    "version": 3
   },
   "file_extension": ".py",
   "mimetype": "text/x-python",
   "name": "python",
   "nbconvert_exporter": "python",
   "pygments_lexer": "ipython3",
   "version": "3.11.13"
  }
 },
 "nbformat": 4,
 "nbformat_minor": 2
}
